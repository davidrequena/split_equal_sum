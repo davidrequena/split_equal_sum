{
 "cells": [
  {
   "cell_type": "markdown",
   "metadata": {},
   "source": [
    "Developed by David Requena. 12/18/2019.\n",
    "\n",
    "GitHub: @davidrequena\n",
    "\n",
    "Contact: drequena@rockefeller.edu / d.requena.a@gmail.com\n",
    "\n",
    "Please cite the repository if used.\n",
    "\n",
    "Link: https://github.com/davidrequena/split_equal_sum"
   ]
  },
  {
   "cell_type": "code",
   "execution_count": 1,
   "metadata": {},
   "outputs": [],
   "source": [
    "from pandas import read_csv\n",
    "import numpy as np\n",
    "import random\n",
    "from math import ceil"
   ]
  },
  {
   "cell_type": "code",
   "execution_count": 2,
   "metadata": {},
   "outputs": [],
   "source": [
    "#--------#\n",
    "# INPUTS #\n",
    "#--------#\n",
    "\n",
    "# The input file is a CSV table with two columns:\n",
    "# A first column with unique identifiers per sample, named 'uid'.\n",
    "# A second column with the number of elements per sample, named 'n_elements'.\n",
    "\n",
    "# In this particular example, we have a list of people, each one has an 'uid'.\n",
    "# And 'n_elements' is the number of articles each person has published.\n",
    "# We want to split this list into 'N' exclusive subgroups with equal or\n",
    "# nearly similar total number of articles per group.\n",
    "\n",
    "filename = 'uid_npapers.csv'\n",
    "\n",
    "# We are going to distribute the dataset into 'N' even groups\n",
    "N = 8\n",
    "\n",
    "# Number of simulations\n",
    "S = 100000\n",
    "\n",
    "# Setting the random seed\n",
    "R = 2019"
   ]
  },
  {
   "cell_type": "code",
   "execution_count": 3,
   "metadata": {},
   "outputs": [
    {
     "name": "stdout",
     "output_type": "stream",
     "text": [
      "          uid  n_elements\n",
      "0    ruid_001           0\n",
      "1    ruid_002           3\n",
      "2    ruid_003           7\n",
      "3    ruid_004           0\n",
      "4    ruid_005           2\n",
      "..        ...         ...\n",
      "216  ruid_217           0\n",
      "217  ruid_218           0\n",
      "218  ruid_219           0\n",
      "219  ruid_220          23\n",
      "220  ruid_221           6\n",
      "\n",
      "[221 rows x 2 columns]\n"
     ]
    }
   ],
   "source": [
    "# Reading and visualizing the file\n",
    "spb_db = read_csv(filename, header = 0)\n",
    "print(spb_db)"
   ]
  },
  {
   "cell_type": "code",
   "execution_count": 4,
   "metadata": {},
   "outputs": [
    {
     "name": "stdout",
     "output_type": "stream",
     "text": [
      "(221, 2)\n",
      "['ruid_143' 'ruid_119' 'ruid_181' 'ruid_042' 'ruid_220' 'ruid_176'\n",
      " 'ruid_106' 'ruid_174' 'ruid_169' 'ruid_165' 'ruid_210' 'ruid_065'\n",
      " 'ruid_063' 'ruid_139' 'ruid_211' 'ruid_148' 'ruid_101' 'ruid_029'\n",
      " 'ruid_172' 'ruid_214' 'ruid_086' 'ruid_151' 'ruid_203' 'ruid_179'\n",
      " 'ruid_023' 'ruid_173' 'ruid_015' 'ruid_003' 'ruid_107' 'ruid_056'\n",
      " 'ruid_091' 'ruid_221' 'ruid_182' 'ruid_202' 'ruid_072' 'ruid_216'\n",
      " 'ruid_197' 'ruid_194' 'ruid_062' 'ruid_080' 'ruid_175' 'ruid_028'\n",
      " 'ruid_039' 'ruid_135' 'ruid_212' 'ruid_158' 'ruid_011' 'ruid_200'\n",
      " 'ruid_187' 'ruid_051' 'ruid_018' 'ruid_066' 'ruid_201' 'ruid_090'\n",
      " 'ruid_112' 'ruid_002' 'ruid_070' 'ruid_060' 'ruid_032' 'ruid_057'\n",
      " 'ruid_022' 'ruid_058' 'ruid_196' 'ruid_054' 'ruid_138' 'ruid_026'\n",
      " 'ruid_145' 'ruid_020' 'ruid_021' 'ruid_131' 'ruid_190' 'ruid_193'\n",
      " 'ruid_096' 'ruid_098' 'ruid_108' 'ruid_155' 'ruid_153' 'ruid_134'\n",
      " 'ruid_142' 'ruid_113' 'ruid_087' 'ruid_111' 'ruid_030' 'ruid_053'\n",
      " 'ruid_033' 'ruid_075' 'ruid_005' 'ruid_041' 'ruid_048' 'ruid_067'\n",
      " 'ruid_036' 'ruid_031' 'ruid_180' 'ruid_132' 'ruid_034' 'ruid_083'\n",
      " 'ruid_171' 'ruid_141' 'ruid_147' 'ruid_150' 'ruid_046' 'ruid_084'\n",
      " 'ruid_164' 'ruid_156' 'ruid_170' 'ruid_188' 'ruid_043' 'ruid_205'\n",
      " 'ruid_103' 'ruid_204' 'ruid_081' 'ruid_009' 'ruid_008' 'ruid_213'\n",
      " 'ruid_037' 'ruid_209' 'ruid_038' 'ruid_007' 'ruid_040' 'ruid_168'\n",
      " 'ruid_167' 'ruid_035' 'ruid_006' 'ruid_166' 'ruid_215' 'ruid_217'\n",
      " 'ruid_218' 'ruid_219' 'ruid_163' 'ruid_162' 'ruid_004' 'ruid_161'\n",
      " 'ruid_208' 'ruid_013' 'ruid_207' 'ruid_014' 'ruid_199' 'ruid_198'\n",
      " 'ruid_016' 'ruid_017' 'ruid_012' 'ruid_195' 'ruid_019' 'ruid_024'\n",
      " 'ruid_192' 'ruid_191' 'ruid_025' 'ruid_189' 'ruid_160' 'ruid_027'\n",
      " 'ruid_186' 'ruid_185' 'ruid_184' 'ruid_183' 'ruid_010' 'ruid_178'\n",
      " 'ruid_206' 'ruid_177' 'ruid_152' 'ruid_159' 'ruid_100' 'ruid_116'\n",
      " 'ruid_115' 'ruid_114' 'ruid_068' 'ruid_069' 'ruid_110' 'ruid_109'\n",
      " 'ruid_071' 'ruid_073' 'ruid_074' 'ruid_105' 'ruid_104' 'ruid_102'\n",
      " 'ruid_099' 'ruid_157' 'ruid_076' 'ruid_097' 'ruid_077' 'ruid_095'\n",
      " 'ruid_094' 'ruid_093' 'ruid_092' 'ruid_078' 'ruid_079' 'ruid_089'\n",
      " 'ruid_088' 'ruid_082' 'ruid_085' 'ruid_117' 'ruid_118' 'ruid_064'\n",
      " 'ruid_120' 'ruid_044' 'ruid_154' 'ruid_045' 'ruid_149' 'ruid_047'\n",
      " 'ruid_146' 'ruid_144' 'ruid_049' 'ruid_050' 'ruid_140' 'ruid_052'\n",
      " 'ruid_137' 'ruid_136' 'ruid_055' 'ruid_059' 'ruid_133' 'ruid_061'\n",
      " 'ruid_130' 'ruid_129' 'ruid_128' 'ruid_127' 'ruid_126' 'ruid_125'\n",
      " 'ruid_124' 'ruid_123' 'ruid_122' 'ruid_121' 'ruid_001']\n",
      "[115 90 40 24 23 22 20 20 15 15 15 13 12 12 12 11 10 10 10 10 10 10 9 8 7\n",
      " 7 7 7 6 6 6 6 6 6 5 5 5 5 5 5 5 5 5 4 4 4 4 4 4 4 4 4 4 3 3 3 3 3 3 3 3 3\n",
      " 3 3 3 3 3 3 3 2 2 2 2 2 2 2 2 2 2 2 2 2 2 2 2 2 2 2 2 2 2 1 1 1 1 1 1 1 1\n",
      " 1 1 1 1 1 1 1 1 1 1 1 1 1 1 0 0 0 0 0 0 0 0 0 0 0 0 0 0 0 0 0 0 0 0 0 0 0\n",
      " 0 0 0 0 0 0 0 0 0 0 0 0 0 0 0 0 0 0 0 0 0 0 0 0 0 0 0 0 0 0 0 0 0 0 0 0 0\n",
      " 0 0 0 0 0 0 0 0 0 0 0 0 0 0 0 0 0 0 0 0 0 0 0 0 0 0 0 0 0 0 0 0 0 0 0 0 0\n",
      " 0 0 0 0 0 0 0 0 0 0 0]\n"
     ]
    }
   ],
   "source": [
    "spb_sorted = spb_db.sort_values(by = ['n_elements'], ascending = False)\n",
    "spb_np = np.asarray(spb_sorted)\n",
    "print(spb_np.shape)\n",
    "print(spb_np[:,0])\n",
    "print(spb_np[:,1])"
   ]
  },
  {
   "cell_type": "code",
   "execution_count": 5,
   "metadata": {},
   "outputs": [
    {
     "name": "stdout",
     "output_type": "stream",
     "text": [
      "113\n"
     ]
    }
   ],
   "source": [
    "# Calculate the number of people with at least 1 article\n",
    "one_or_more = sum([1 for i in spb_db['n_elements'] if i > 0])\n",
    "print(one_or_more)"
   ]
  },
  {
   "cell_type": "code",
   "execution_count": 6,
   "metadata": {},
   "outputs": [
    {
     "name": "stdout",
     "output_type": "stream",
     "text": [
      "(120, 2)\n",
      "['ruid_143' 'ruid_119' 'ruid_181' 'ruid_042' 'ruid_220' 'ruid_176'\n",
      " 'ruid_106' 'ruid_174' 'ruid_169' 'ruid_165' 'ruid_210' 'ruid_065'\n",
      " 'ruid_063' 'ruid_139' 'ruid_211' 'ruid_148' 'ruid_101' 'ruid_029'\n",
      " 'ruid_172' 'ruid_214' 'ruid_086' 'ruid_151' 'ruid_203' 'ruid_179'\n",
      " 'ruid_023' 'ruid_173' 'ruid_015' 'ruid_003' 'ruid_107' 'ruid_056'\n",
      " 'ruid_091' 'ruid_221' 'ruid_182' 'ruid_202' 'ruid_072' 'ruid_216'\n",
      " 'ruid_197' 'ruid_194' 'ruid_062' 'ruid_080' 'ruid_175' 'ruid_028'\n",
      " 'ruid_039' 'ruid_135' 'ruid_212' 'ruid_158' 'ruid_011' 'ruid_200'\n",
      " 'ruid_187' 'ruid_051' 'ruid_018' 'ruid_066' 'ruid_201' 'ruid_090'\n",
      " 'ruid_112' 'ruid_002' 'ruid_070' 'ruid_060' 'ruid_032' 'ruid_057'\n",
      " 'ruid_022' 'ruid_058' 'ruid_196' 'ruid_054' 'ruid_138' 'ruid_026'\n",
      " 'ruid_145' 'ruid_020' 'ruid_021' 'ruid_131' 'ruid_190' 'ruid_193'\n",
      " 'ruid_096' 'ruid_098' 'ruid_108' 'ruid_155' 'ruid_153' 'ruid_134'\n",
      " 'ruid_142' 'ruid_113' 'ruid_087' 'ruid_111' 'ruid_030' 'ruid_053'\n",
      " 'ruid_033' 'ruid_075' 'ruid_005' 'ruid_041' 'ruid_048' 'ruid_067'\n",
      " 'ruid_036' 'ruid_031' 'ruid_180' 'ruid_132' 'ruid_034' 'ruid_083'\n",
      " 'ruid_171' 'ruid_141' 'ruid_147' 'ruid_150' 'ruid_046' 'ruid_084'\n",
      " 'ruid_164' 'ruid_156' 'ruid_170' 'ruid_188' 'ruid_043' 'ruid_205'\n",
      " 'ruid_103' 'ruid_204' 'ruid_081' 'ruid_009' 'ruid_008' 'ruid_213'\n",
      " 'ruid_037' 'ruid_209' 'ruid_038' 'ruid_007' 'ruid_040' 'ruid_168']\n",
      "[115 90 40 24 23 22 20 20 15 15 15 13 12 12 12 11 10 10 10 10 10 10 9 8 7\n",
      " 7 7 7 6 6 6 6 6 6 5 5 5 5 5 5 5 5 5 4 4 4 4 4 4 4 4 4 4 3 3 3 3 3 3 3 3 3\n",
      " 3 3 3 3 3 3 3 2 2 2 2 2 2 2 2 2 2 2 2 2 2 2 2 2 2 2 2 2 2 1 1 1 1 1 1 1 1\n",
      " 1 1 1 1 1 1 1 1 1 1 1 1 1 1 0 0 0 0 0 0 0]\n"
     ]
    }
   ],
   "source": [
    "# Then, we have to select the closest multiple of N above or equal to one_or_more \n",
    "t = N * ceil(one_or_more / N)\n",
    "\n",
    "top_pool = spb_np[:t]\n",
    "print(top_pool.shape)\n",
    "print(top_pool[:,0])\n",
    "print(top_pool[:,1])"
   ]
  },
  {
   "cell_type": "code",
   "execution_count": 7,
   "metadata": {},
   "outputs": [],
   "source": [
    "# Split a list into buckets using a random seed\n",
    "def random_split_buckets(df, nb, seed):\n",
    "    \n",
    "    # Get a copy of the list of IDs to not alter the original\n",
    "    L = np.copy(df[:,0])\n",
    "    \n",
    "    random.Random(seed).shuffle(L)\n",
    "    \n",
    "    # Split the list into 'nb' buckets of size 'sb'\n",
    "    sb = int(len(L) / nb)\n",
    "\n",
    "    buckets = [L[sb*i : sb*(i+1)] for i in range(nb)]\n",
    "    \n",
    "    # Calculate the sum in each bucket\n",
    "    sums_buckets = [sum(df[np.isin(df[:,0], b), 1]) for b in buckets]\n",
    "    \n",
    "    return buckets, sums_buckets\n",
    "\n",
    "\n",
    "# Find the most even split\n",
    "def best_distribution(df, nb, n_iter):\n",
    "\n",
    "    std_iterations = []\n",
    "\n",
    "    for s in range(n_iter):\n",
    "\n",
    "        # Split into buckets\n",
    "        buckets, sums_buckets = random_split_buckets(df, nb, s)\n",
    "        \n",
    "        # Calculate and store the Standard Deviation\n",
    "        std_iterations.append(np.std(sums_buckets))\n",
    "\n",
    "    # Select the best iteration\n",
    "    bit = np.argmin(std_iterations)\n",
    "    \n",
    "    return random_split_buckets(df, nb, bit)"
   ]
  },
  {
   "cell_type": "code",
   "execution_count": 8,
   "metadata": {},
   "outputs": [
    {
     "name": "stdout",
     "output_type": "stream",
     "text": [
      "[99, 99, 140, 68, 128, 87, 100, 78]\n",
      "Bucket with articles 0:\n",
      "['ruid_220' 'ruid_150' 'ruid_193' 'ruid_032' 'ruid_084' 'ruid_212'\n",
      " 'ruid_051' 'ruid_054' 'ruid_108' 'ruid_046' 'ruid_080' 'ruid_063'\n",
      " 'ruid_176' 'ruid_148' 'ruid_072']\n",
      "Bucket with articles 1:\n",
      "['ruid_057' 'ruid_203' 'ruid_053' 'ruid_213' 'ruid_058' 'ruid_091'\n",
      " 'ruid_023' 'ruid_139' 'ruid_021' 'ruid_011' 'ruid_187' 'ruid_096'\n",
      " 'ruid_156' 'ruid_070' 'ruid_181']\n",
      "Bucket with articles 2:\n",
      "['ruid_145' 'ruid_066' 'ruid_143' 'ruid_103' 'ruid_060' 'ruid_209'\n",
      " 'ruid_043' 'ruid_037' 'ruid_007' 'ruid_075' 'ruid_147' 'ruid_048'\n",
      " 'ruid_180' 'ruid_194' 'ruid_087']\n",
      "Bucket with articles 3:\n",
      "['ruid_171' 'ruid_015' 'ruid_101' 'ruid_210' 'ruid_033' 'ruid_040'\n",
      " 'ruid_211' 'ruid_216' 'ruid_182' 'ruid_090' 'ruid_081' 'ruid_132'\n",
      " 'ruid_005' 'ruid_034' 'ruid_067']\n",
      "Bucket with articles 4:\n",
      "['ruid_170' 'ruid_214' 'ruid_158' 'ruid_020' 'ruid_008' 'ruid_113'\n",
      " 'ruid_135' 'ruid_031' 'ruid_200' 'ruid_168' 'ruid_026' 'ruid_041'\n",
      " 'ruid_098' 'ruid_119' 'ruid_083']\n",
      "Bucket with articles 5:\n",
      "['ruid_169' 'ruid_151' 'ruid_018' 'ruid_173' 'ruid_009' 'ruid_065'\n",
      " 'ruid_165' 'ruid_153' 'ruid_056' 'ruid_164' 'ruid_155' 'ruid_197'\n",
      " 'ruid_131' 'ruid_142' 'ruid_134']\n",
      "Bucket with articles 6:\n",
      "['ruid_205' 'ruid_138' 'ruid_062' 'ruid_022' 'ruid_029' 'ruid_086'\n",
      " 'ruid_042' 'ruid_002' 'ruid_039' 'ruid_036' 'ruid_030' 'ruid_221'\n",
      " 'ruid_174' 'ruid_038' 'ruid_107']\n",
      "Bucket with articles 7:\n",
      "['ruid_106' 'ruid_204' 'ruid_112' 'ruid_202' 'ruid_190' 'ruid_188'\n",
      " 'ruid_003' 'ruid_196' 'ruid_179' 'ruid_111' 'ruid_141' 'ruid_172'\n",
      " 'ruid_175' 'ruid_201' 'ruid_028']\n"
     ]
    }
   ],
   "source": [
    "# Get buckets of people with articles, evenly distributed\n",
    "buckets_art, sums_art = best_distribution(top_pool, N, S)\n",
    "\n",
    "print(sums_art)\n",
    "\n",
    "for i in range(len(buckets_art)):\n",
    "    print('Bucket with articles ' + str(i) + ':')\n",
    "    print(buckets_art[i])"
   ]
  },
  {
   "cell_type": "code",
   "execution_count": 9,
   "metadata": {},
   "outputs": [
    {
     "name": "stdout",
     "output_type": "stream",
     "text": [
      "216\n",
      "(96, 2)\n",
      "['ruid_167' 'ruid_035' 'ruid_006' 'ruid_166' 'ruid_215' 'ruid_217'\n",
      " 'ruid_218' 'ruid_219' 'ruid_163' 'ruid_162' 'ruid_004' 'ruid_161'\n",
      " 'ruid_208' 'ruid_013' 'ruid_207' 'ruid_014' 'ruid_199' 'ruid_198'\n",
      " 'ruid_016' 'ruid_017' 'ruid_012' 'ruid_195' 'ruid_019' 'ruid_024'\n",
      " 'ruid_192' 'ruid_191' 'ruid_025' 'ruid_189' 'ruid_160' 'ruid_027'\n",
      " 'ruid_186' 'ruid_185' 'ruid_184' 'ruid_183' 'ruid_010' 'ruid_178'\n",
      " 'ruid_206' 'ruid_177' 'ruid_152' 'ruid_159' 'ruid_100' 'ruid_116'\n",
      " 'ruid_115' 'ruid_114' 'ruid_068' 'ruid_069' 'ruid_110' 'ruid_109'\n",
      " 'ruid_071' 'ruid_073' 'ruid_074' 'ruid_105' 'ruid_104' 'ruid_102'\n",
      " 'ruid_099' 'ruid_157' 'ruid_076' 'ruid_097' 'ruid_077' 'ruid_095'\n",
      " 'ruid_094' 'ruid_093' 'ruid_092' 'ruid_078' 'ruid_079' 'ruid_089'\n",
      " 'ruid_088' 'ruid_082' 'ruid_085' 'ruid_117' 'ruid_118' 'ruid_064'\n",
      " 'ruid_120' 'ruid_044' 'ruid_154' 'ruid_045' 'ruid_149' 'ruid_047'\n",
      " 'ruid_146' 'ruid_144' 'ruid_049' 'ruid_050' 'ruid_140' 'ruid_052'\n",
      " 'ruid_137' 'ruid_136' 'ruid_055' 'ruid_059' 'ruid_133' 'ruid_061'\n",
      " 'ruid_130' 'ruid_129' 'ruid_128' 'ruid_127' 'ruid_126' 'ruid_125']\n",
      "[0 0 0 0 0 0 0 0 0 0 0 0 0 0 0 0 0 0 0 0 0 0 0 0 0 0 0 0 0 0 0 0 0 0 0 0 0\n",
      " 0 0 0 0 0 0 0 0 0 0 0 0 0 0 0 0 0 0 0 0 0 0 0 0 0 0 0 0 0 0 0 0 0 0 0 0 0\n",
      " 0 0 0 0 0 0 0 0 0 0 0 0 0 0 0 0 0 0 0 0 0 0]\n"
     ]
    }
   ],
   "source": [
    "# Calculate the maximum multiple of N contained in the rows,\n",
    "# to evenly distribute them into the N buckets\n",
    "T = N * (len(spb_np) // N)\n",
    "print(T)\n",
    "\n",
    "# Now select people with no articles until row N:\n",
    "bottom_pool = spb_np[t:T]\n",
    "print(bottom_pool.shape)\n",
    "print(bottom_pool[:,0])\n",
    "print(bottom_pool[:,1])"
   ]
  },
  {
   "cell_type": "code",
   "execution_count": 10,
   "metadata": {},
   "outputs": [
    {
     "name": "stdout",
     "output_type": "stream",
     "text": [
      "Bucket of zeros 0:\n",
      "['ruid_068' 'ruid_061' 'ruid_178' 'ruid_183' 'ruid_049' 'ruid_095'\n",
      " 'ruid_198' 'ruid_044' 'ruid_160' 'ruid_157' 'ruid_163' 'ruid_073']\n",
      "Bucket of zeros 1:\n",
      "['ruid_097' 'ruid_120' 'ruid_206' 'ruid_207' 'ruid_192' 'ruid_064'\n",
      " 'ruid_059' 'ruid_199' 'ruid_019' 'ruid_099' 'ruid_055' 'ruid_118']\n",
      "Bucket of zeros 2:\n",
      "['ruid_217' 'ruid_167' 'ruid_004' 'ruid_069' 'ruid_024' 'ruid_074'\n",
      " 'ruid_047' 'ruid_014' 'ruid_035' 'ruid_195' 'ruid_208' 'ruid_184']\n",
      "Bucket of zeros 3:\n",
      "['ruid_125' 'ruid_089' 'ruid_218' 'ruid_105' 'ruid_082' 'ruid_110'\n",
      " 'ruid_071' 'ruid_117' 'ruid_144' 'ruid_159' 'ruid_016' 'ruid_189']\n",
      "Bucket of zeros 4:\n",
      "['ruid_152' 'ruid_027' 'ruid_079' 'ruid_136' 'ruid_088' 'ruid_191'\n",
      " 'ruid_045' 'ruid_092' 'ruid_115' 'ruid_127' 'ruid_006' 'ruid_219']\n",
      "Bucket of zeros 5:\n",
      "['ruid_161' 'ruid_094' 'ruid_166' 'ruid_137' 'ruid_076' 'ruid_130'\n",
      " 'ruid_128' 'ruid_085' 'ruid_013' 'ruid_093' 'ruid_025' 'ruid_010']\n",
      "Bucket of zeros 6:\n",
      "['ruid_114' 'ruid_154' 'ruid_109' 'ruid_215' 'ruid_116' 'ruid_162'\n",
      " 'ruid_077' 'ruid_102' 'ruid_186' 'ruid_146' 'ruid_104' 'ruid_177']\n",
      "Bucket of zeros 7:\n",
      "['ruid_133' 'ruid_149' 'ruid_050' 'ruid_100' 'ruid_140' 'ruid_129'\n",
      " 'ruid_052' 'ruid_126' 'ruid_012' 'ruid_078' 'ruid_185' 'ruid_017']\n"
     ]
    }
   ],
   "source": [
    "# Split the bottom_pool randomly into buckets:\n",
    "buckets_zeros, sums_zeros = random_split_buckets(bottom_pool, N, R)\n",
    "\n",
    "for i in range(len(buckets_zeros)):\n",
    "    print('Bucket of zeros ' + str(i) + ':')\n",
    "    print(buckets_zeros[i])"
   ]
  },
  {
   "cell_type": "code",
   "execution_count": 11,
   "metadata": {},
   "outputs": [
    {
     "name": "stdout",
     "output_type": "stream",
     "text": [
      "5\n",
      "[3, 5, 4, 1, 6]\n",
      "Bucket of zeros 0:\n",
      "['ruid_068' 'ruid_061' 'ruid_178' 'ruid_183' 'ruid_049' 'ruid_095'\n",
      " 'ruid_198' 'ruid_044' 'ruid_160' 'ruid_157' 'ruid_163' 'ruid_073']\n",
      "Bucket of zeros 1:\n",
      "['ruid_097' 'ruid_120' 'ruid_206' 'ruid_207' 'ruid_192' 'ruid_064'\n",
      " 'ruid_059' 'ruid_199' 'ruid_019' 'ruid_099' 'ruid_055' 'ruid_118'\n",
      " 'ruid_121']\n",
      "Bucket of zeros 2:\n",
      "['ruid_217' 'ruid_167' 'ruid_004' 'ruid_069' 'ruid_024' 'ruid_074'\n",
      " 'ruid_047' 'ruid_014' 'ruid_035' 'ruid_195' 'ruid_208' 'ruid_184']\n",
      "Bucket of zeros 3:\n",
      "['ruid_125' 'ruid_089' 'ruid_218' 'ruid_105' 'ruid_082' 'ruid_110'\n",
      " 'ruid_071' 'ruid_117' 'ruid_144' 'ruid_159' 'ruid_016' 'ruid_189'\n",
      " 'ruid_124']\n",
      "Bucket of zeros 4:\n",
      "['ruid_152' 'ruid_027' 'ruid_079' 'ruid_136' 'ruid_088' 'ruid_191'\n",
      " 'ruid_045' 'ruid_092' 'ruid_115' 'ruid_127' 'ruid_006' 'ruid_219'\n",
      " 'ruid_122']\n",
      "Bucket of zeros 5:\n",
      "['ruid_161' 'ruid_094' 'ruid_166' 'ruid_137' 'ruid_076' 'ruid_130'\n",
      " 'ruid_128' 'ruid_085' 'ruid_013' 'ruid_093' 'ruid_025' 'ruid_010'\n",
      " 'ruid_123']\n",
      "Bucket of zeros 6:\n",
      "['ruid_114' 'ruid_154' 'ruid_109' 'ruid_215' 'ruid_116' 'ruid_162'\n",
      " 'ruid_077' 'ruid_102' 'ruid_186' 'ruid_146' 'ruid_104' 'ruid_177'\n",
      " 'ruid_001']\n",
      "Bucket of zeros 7:\n",
      "['ruid_133' 'ruid_149' 'ruid_050' 'ruid_100' 'ruid_140' 'ruid_129'\n",
      " 'ruid_052' 'ruid_126' 'ruid_012' 'ruid_078' 'ruid_185' 'ruid_017']\n"
     ]
    }
   ],
   "source": [
    "# Select the remaining rows without articles:\n",
    "remaining_pool = spb_np[T:]\n",
    "nr = len(remaining_pool)\n",
    "print(nr)\n",
    "\n",
    "# Now add this rows into randomly selected buckets of zeros\n",
    "rdm = random.sample(range(N), nr)\n",
    "print(rdm)\n",
    "\n",
    "for i in range(nr):\n",
    "    buckets_zeros[rdm[i]] = np.concatenate((buckets_zeros[rdm[i]], [remaining_pool[i,0]]))\n",
    "\n",
    "for i in range(len(buckets_zeros)):\n",
    "    print('Bucket of zeros ' + str(i) + ':')\n",
    "    print(buckets_zeros[i])"
   ]
  },
  {
   "cell_type": "code",
   "execution_count": 12,
   "metadata": {},
   "outputs": [
    {
     "name": "stdout",
     "output_type": "stream",
     "text": [
      "Final Bucket 0:\n",
      "['ruid_220' 'ruid_150' 'ruid_193' 'ruid_032' 'ruid_084' 'ruid_212'\n",
      " 'ruid_051' 'ruid_054' 'ruid_108' 'ruid_046' 'ruid_080' 'ruid_063'\n",
      " 'ruid_176' 'ruid_148' 'ruid_072' 'ruid_068' 'ruid_061' 'ruid_178'\n",
      " 'ruid_183' 'ruid_049' 'ruid_095' 'ruid_198' 'ruid_044' 'ruid_160'\n",
      " 'ruid_157' 'ruid_163' 'ruid_073']\n",
      "Final Bucket 1:\n",
      "['ruid_057' 'ruid_203' 'ruid_053' 'ruid_213' 'ruid_058' 'ruid_091'\n",
      " 'ruid_023' 'ruid_139' 'ruid_021' 'ruid_011' 'ruid_187' 'ruid_096'\n",
      " 'ruid_156' 'ruid_070' 'ruid_181' 'ruid_097' 'ruid_120' 'ruid_206'\n",
      " 'ruid_207' 'ruid_192' 'ruid_064' 'ruid_059' 'ruid_199' 'ruid_019'\n",
      " 'ruid_099' 'ruid_055' 'ruid_118' 'ruid_121']\n",
      "Final Bucket 2:\n",
      "['ruid_145' 'ruid_066' 'ruid_143' 'ruid_103' 'ruid_060' 'ruid_209'\n",
      " 'ruid_043' 'ruid_037' 'ruid_007' 'ruid_075' 'ruid_147' 'ruid_048'\n",
      " 'ruid_180' 'ruid_194' 'ruid_087' 'ruid_217' 'ruid_167' 'ruid_004'\n",
      " 'ruid_069' 'ruid_024' 'ruid_074' 'ruid_047' 'ruid_014' 'ruid_035'\n",
      " 'ruid_195' 'ruid_208' 'ruid_184']\n",
      "Final Bucket 3:\n",
      "['ruid_171' 'ruid_015' 'ruid_101' 'ruid_210' 'ruid_033' 'ruid_040'\n",
      " 'ruid_211' 'ruid_216' 'ruid_182' 'ruid_090' 'ruid_081' 'ruid_132'\n",
      " 'ruid_005' 'ruid_034' 'ruid_067' 'ruid_125' 'ruid_089' 'ruid_218'\n",
      " 'ruid_105' 'ruid_082' 'ruid_110' 'ruid_071' 'ruid_117' 'ruid_144'\n",
      " 'ruid_159' 'ruid_016' 'ruid_189' 'ruid_124']\n",
      "Final Bucket 4:\n",
      "['ruid_170' 'ruid_214' 'ruid_158' 'ruid_020' 'ruid_008' 'ruid_113'\n",
      " 'ruid_135' 'ruid_031' 'ruid_200' 'ruid_168' 'ruid_026' 'ruid_041'\n",
      " 'ruid_098' 'ruid_119' 'ruid_083' 'ruid_152' 'ruid_027' 'ruid_079'\n",
      " 'ruid_136' 'ruid_088' 'ruid_191' 'ruid_045' 'ruid_092' 'ruid_115'\n",
      " 'ruid_127' 'ruid_006' 'ruid_219' 'ruid_122']\n",
      "Final Bucket 5:\n",
      "['ruid_169' 'ruid_151' 'ruid_018' 'ruid_173' 'ruid_009' 'ruid_065'\n",
      " 'ruid_165' 'ruid_153' 'ruid_056' 'ruid_164' 'ruid_155' 'ruid_197'\n",
      " 'ruid_131' 'ruid_142' 'ruid_134' 'ruid_161' 'ruid_094' 'ruid_166'\n",
      " 'ruid_137' 'ruid_076' 'ruid_130' 'ruid_128' 'ruid_085' 'ruid_013'\n",
      " 'ruid_093' 'ruid_025' 'ruid_010' 'ruid_123']\n",
      "Final Bucket 6:\n",
      "['ruid_205' 'ruid_138' 'ruid_062' 'ruid_022' 'ruid_029' 'ruid_086'\n",
      " 'ruid_042' 'ruid_002' 'ruid_039' 'ruid_036' 'ruid_030' 'ruid_221'\n",
      " 'ruid_174' 'ruid_038' 'ruid_107' 'ruid_114' 'ruid_154' 'ruid_109'\n",
      " 'ruid_215' 'ruid_116' 'ruid_162' 'ruid_077' 'ruid_102' 'ruid_186'\n",
      " 'ruid_146' 'ruid_104' 'ruid_177' 'ruid_001']\n",
      "Final Bucket 7:\n",
      "['ruid_106' 'ruid_204' 'ruid_112' 'ruid_202' 'ruid_190' 'ruid_188'\n",
      " 'ruid_003' 'ruid_196' 'ruid_179' 'ruid_111' 'ruid_141' 'ruid_172'\n",
      " 'ruid_175' 'ruid_201' 'ruid_028' 'ruid_133' 'ruid_149' 'ruid_050'\n",
      " 'ruid_100' 'ruid_140' 'ruid_129' 'ruid_052' 'ruid_126' 'ruid_012'\n",
      " 'ruid_078' 'ruid_185' 'ruid_017']\n"
     ]
    }
   ],
   "source": [
    "# Now merge the buckets with articles and the buckets without articles\n",
    "final_buckets = [np.concatenate((buckets_art[i], buckets_zeros[i])) for i in range(N)]\n",
    "\n",
    "for i in range(len(final_buckets)):\n",
    "    print('Final Bucket ' + str(i) + ':')\n",
    "    print(final_buckets[i])"
   ]
  },
  {
   "cell_type": "code",
   "execution_count": 13,
   "metadata": {},
   "outputs": [],
   "source": [
    "# Save the output:\n",
    "with open('final_buckets.txt', 'w') as output:\n",
    "    \n",
    "    output.write(str(sums_art) + '\\n')   # Save the sums per bucket\n",
    "    \n",
    "    # Save the elements of the buckets, connected by commas\n",
    "    for i in range(N):\n",
    "        line_bucket = ','.join(str(final_buckets[i])[1:-1].split())\n",
    "        output.write(line_bucket + '\\n')"
   ]
  }
 ],
 "metadata": {
  "kernelspec": {
   "display_name": "Python 3",
   "language": "python",
   "name": "python3"
  },
  "language_info": {
   "codemirror_mode": {
    "name": "ipython",
    "version": 3
   },
   "file_extension": ".py",
   "mimetype": "text/x-python",
   "name": "python",
   "nbconvert_exporter": "python",
   "pygments_lexer": "ipython3",
   "version": "3.7.4"
  }
 },
 "nbformat": 4,
 "nbformat_minor": 2
}
